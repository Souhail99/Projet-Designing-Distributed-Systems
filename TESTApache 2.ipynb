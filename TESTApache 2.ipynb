{
 "cells": [
  {
   "cell_type": "code",
   "execution_count": 1,
   "metadata": {},
   "outputs": [
    {
     "name": "stdout",
     "output_type": "stream",
     "text": [
      "{'id': 787198238, 'price': '3007.38000000', 'qty': '0.54960000', 'quoteQty': '1652.85604800', 'time': 1647967172681, 'isBuyerMaker': True, 'isBestMatch': True}\n"
     ]
    }
   ],
   "source": [
    "\n",
    "from kafka import KafkaProducer, KafkaConsumer\n",
    "from time import sleep\n",
    "import json\n",
    "from datetime import datetime\n",
    "from confluent_kafka import Producer\n",
    "import socket\n",
    "import pymongo\n",
    "from pymongo.errors import BulkWriteError\n",
    "\n",
    "from pymongo import MongoClient, ASCENDING, DESCENDING\n",
    "\n",
    "from pprint import pprint\n",
    "\n",
    "from time import sleep\n",
    "from bson.objectid import ObjectId \n",
    "import subprocess\n",
    "from itertools import combinations, combinations_with_replacement\n",
    "from EtudeBinance import Makethefile,getpairs"
   ]
  },
  {
   "cell_type": "code",
   "execution_count": 2,
   "metadata": {},
   "outputs": [
    {
     "name": "stdout",
     "output_type": "stream",
     "text": [
      "len 388\n",
      "len 1985\n"
     ]
    }
   ],
   "source": [
    "symboles=list(filter(('').__ne__, getpairs()))\n",
    "listesymboles=[\"BTC\",\"ETH\",\"USDT\",\"USD\",\"BNB\",\"XRP\",\"ADA\",\"DOGE\",\"LTC\",\"BCH\",\"SOL\",\"ETC\",\"LUNA\",\"AVAX\",\"SHIB\",\"DOT\",\"MATIC\",\"AAVE\",\"UNI\",\"VRA\",\"USDC\",\"ADX\",\"USDC\",\"APE\",\"JASMY\",\"GALA\",\"WAVES\",\"LRC\"]\n",
    "temp = combinations(listesymboles, 2)\n",
    "newlist=[]\n",
    "for j in list(temp):\n",
    "    newlist.append(j[0]+j[1])\n",
    "    newlist.append(j[1]+j[0])\n",
    "for i in newlist:\n",
    "    if i not in symboles:\n",
    "        newlist.remove(i)\n",
    "print(\"len\",len(newlist))\n",
    "print(\"len\",len(symboles))"
   ]
  },
  {
   "cell_type": "markdown",
   "metadata": {},
   "source": [
    "# Définition des paramètres\n",
    "\n",
    "**Producer** permet d'envoyer des données tandis que **consumer** permet de lire en direct.\n",
    "\n",
    "Le client de mongo permet de stocker ces valeurs dans notre database."
   ]
  },
  {
   "cell_type": "code",
   "execution_count": 3,
   "metadata": {},
   "outputs": [],
   "source": [
    "\n",
    "conf = {'bootstrap.servers': \"host1:9092,host2:9092\",\n",
    "        'client.id': socket.gethostname()}\n",
    "\n",
    "producerconnect = Producer({'bootstrap.servers': 'localhost:9092'})\n",
    "producer = KafkaProducer(bootstrap_servers=['localhost:9092'],\n",
    "                         api_version=(0,10,2))\n",
    "consumer = KafkaConsumer(\n",
    "    'ApiBinance',\n",
    "     bootstrap_servers=['localhost:9092'],\n",
    "     auto_offset_reset='earliest',\n",
    "     auto_commit_interval_ms=300,\n",
    "     enable_auto_commit=True,\n",
    "     group_id='my-group')\n",
    "\n",
    "client = MongoClient(\"localhost\", 27017)"
   ]
  },
  {
   "cell_type": "code",
   "execution_count": 6,
   "metadata": {},
   "outputs": [
    {
     "data": {
      "text/plain": [
       "<kafka.producer.future.FutureRecordMetadata at 0x7f021044a520>"
      ]
     },
     "execution_count": 6,
     "metadata": {},
     "output_type": "execute_result"
    }
   ],
   "source": [
    "#producer.send('ApiBinance',b'hesdvfsvbllo, Kafka')"
   ]
  },
  {
   "cell_type": "code",
   "execution_count": 10,
   "metadata": {},
   "outputs": [
    {
     "data": {
      "text/plain": [
       "<pymongo.results.DeleteResult at 0x7f102c7b46c0>"
      ]
     },
     "execution_count": 10,
     "metadata": {},
     "output_type": "execute_result"
    }
   ],
   "source": [
    "db = client.Binance\n",
    "collection = db.symbol\n",
    "db.symbol.delete_many({})"
   ]
  },
  {
   "cell_type": "code",
   "execution_count": 97,
   "metadata": {},
   "outputs": [],
   "source": [
    "# nom={\"ID\": 1, \"symbol\": \"ETHBTC\", \"priceChangePercent\": 0.654, \"lastPrice\": 0.07081200, \"lastQty\": 1.17340000, \"highPrice\": 0.07180400, \"lowPrice\": 0.07014000, \"volume\": 89116.07380000, \"currentaverageprice\": 0.07077283}\n",
    "# nom2={\"ID\": 2, \"symbol\": \"BTCUSDT\", \"priceChangePercent\": 2.976, \"lastPrice\": 42512.00000000, \"lastQty\": 0.17164000, \"highPrice\": 43361.00000000, \"lowPrice\": 40738.48000000, \"volume\": 59150.16141000, \"currentaverageprice\": 42498.38531030}\n",
    "# rec_id1 = collection.insert_one(nom)\n",
    "# rec_id2 = collection.insert_one(nom2)"
   ]
  },
  {
   "cell_type": "code",
   "execution_count": 11,
   "metadata": {},
   "outputs": [
    {
     "name": "stdout",
     "output_type": "stream",
     "text": [
      "1\n",
      "107\n",
      "{\"ID\": 1, \"symbol\": \"ETHBTC\", \"priceChangePercent\": -0.068, \"lastPrice\": 0.07038700, \"lastQty\": 1.00410000, \"highPrice\": 0.07180400, \"lowPrice\": 0.07014000, \"volume\": 89625.31950000, \"currentaverageprice\": 0.07041493\n"
     ]
    }
   ],
   "source": [
    "listeInsertion=[]\n",
    "compteur=0\n",
    "with open(\"fichier.txt\", \"r\") as fichier:\n",
    "\t\n",
    "\tlines = fichier.readlines()\n",
    "\tfor line in lines:\n",
    "\t\tlisteInsertion.append(line)\n",
    "\n",
    "\n",
    "print(len(listeInsertion))\n",
    "list1=[]\n",
    "list1=listeInsertion[0].split(',WEEE')\n",
    "print(len(list1))\n",
    "\n",
    "del list1[-1]\n",
    "\n",
    "jsone=[]\n",
    "print(list1[0][:len(i)-1])\n",
    "for i in list1:\n",
    "\ttry:\n",
    "\t\tjsone.append(json.loads(i))\n",
    "\t\tc=collection.insert_one(json.loads(i))\n",
    "\texcept ValueError:\n",
    "\t\tprint(\"error for\",i,ValueError)\n"
   ]
  },
  {
   "cell_type": "markdown",
   "metadata": {},
   "source": [
    "# Insertion\n",
    "\n",
    "On a récupérer les données du fichier. On utilise Kafka Connect pour faire le lien entre mongodb et les topics."
   ]
  },
  {
   "cell_type": "code",
   "execution_count": null,
   "metadata": {},
   "outputs": [],
   "source": [
    "cursor = collection.find()\n",
    "for record in cursor:\n",
    "    print('yo',record)"
   ]
  },
  {
   "cell_type": "code",
   "execution_count": 17,
   "metadata": {},
   "outputs": [
    {
     "name": "stdout",
     "output_type": "stream",
     "text": [
      "106\n",
      "{'ID': 1, 'symbol': 'ETHBTC', 'priceChangePercent': -0.068, 'lastPrice': 0.070387, 'lastQty': 1.0041, 'highPrice': 0.071804, 'lowPrice': 0.07014, 'volume': 89625.3195, 'currentaverageprice': 0.07041493}\n",
      "<class 'dict'>\n",
      "{'ID': 1, 'symbol': 'ETHBTC', 'priceChangePercent': -0.068, 'lastPrice': 0.070387, 'lastQty': 1.0041, 'highPrice': 0.071804, 'lowPrice': 0.07014, 'volume': 89625.3195, 'currentaverageprice': 0.07041493}\n"
     ]
    }
   ],
   "source": [
    "print(len(jsone))\n",
    "print(jsone[0])\n",
    "print(type(jsone[0]))\n",
    "print(str(jsone[0]))\n",
    "for i in jsone:\n",
    "    producer.send('ApiBinance',bytes(str(i), encoding='utf-8'))\n",
    "    sleep(0.5)\n",
    "compteur=0\n"
   ]
  },
  {
   "cell_type": "markdown",
   "metadata": {},
   "source": [
    "On a inséré les données dans kafka topics. Maintenant, via Kafka connect on récupére les données puis on les met dans mongodb"
   ]
  },
  {
   "cell_type": "markdown",
   "metadata": {},
   "source": [
    "**Kafka Connect**"
   ]
  },
  {
   "cell_type": "markdown",
   "metadata": {},
   "source": [
    "Lire des données :"
   ]
  },
  {
   "cell_type": "code",
   "execution_count": null,
   "metadata": {},
   "outputs": [],
   "source": [
    "from confluent_kafka import Consumer, KafkaError\n",
    "\n",
    "settings = {\n",
    "    'bootstrap.servers': 'localhost:9092',\n",
    "    'group.id': 'mygroup2',\n",
    "    'client.id': 'client-2',\n",
    "    'enable.auto.commit': True,\n",
    "    'session.timeout.ms': 6000,\n",
    "    'default.topic.config': {'auto.offset.reset': 'smallest'}\n",
    "}\n",
    "\n",
    "c = Consumer(settings)\n",
    "\n",
    "c.subscribe(['ApiBinance'])\n",
    "\n",
    "try:\n",
    "    while True:\n",
    "        msg = c.poll(0.1)\n",
    "        if msg is None:\n",
    "            continue\n",
    "        elif not msg.error():\n",
    "            print('Received message: {0}'.format(msg.value()))\n",
    "        elif msg.error().code() == KafkaError._PARTITION_EOF:\n",
    "            print('End of partition reached {0}/{1}'\n",
    "                  .format(msg.topic(), msg.partition()))\n",
    "        else:\n",
    "            print('Error occured: {0}'.format(msg.error().str()))\n",
    "\n",
    "except KeyboardInterrupt:\n",
    "    pass\n",
    "\n",
    "finally:\n",
    "    c.close()"
   ]
  },
  {
   "cell_type": "markdown",
   "metadata": {},
   "source": [
    "On les met dans MongoDB."
   ]
  },
  {
   "cell_type": "code",
   "execution_count": null,
   "metadata": {},
   "outputs": [],
   "source": [
    "def acked(err, msg):\n",
    "    if err is not None:\n",
    "        print(\"Failed to deliver message: {0}: {1}\"\n",
    "              .format(msg.value(), err.str()))\n",
    "    else:\n",
    "        print(\"Message produced: {0}\".format(msg.value()))\n",
    "\n",
    "p = Producer({'bootstrap.servers': 'localhost:9092'})\n",
    "\n",
    "try:\n",
    "    for val in range(1, 1000):\n",
    "        p.produce('ApiBinance', 'myvalue #{0}'\n",
    "                  .format(val), callback=acked)\n",
    "        p.poll(0.5)\n",
    "\n",
    "except KeyboardInterrupt:\n",
    "    pass\n",
    "\n",
    "p.flush(30)"
   ]
  },
  {
   "cell_type": "markdown",
   "metadata": {},
   "source": [
    "On fait des requetes"
   ]
  },
  {
   "cell_type": "code",
   "execution_count": null,
   "metadata": {},
   "outputs": [],
   "source": [
    "for i in listeInsertion:\n",
    "    producer.send('ApiBinance',bytes(i, encoding='utf-8'))\n",
    "    sleep(0.5)\n",
    "compteur=0\n",
    "for message in consumer:\n",
    "    compteur+=1\n",
    "    print(compteur)\n",
    "    if \"symbol\" in str(message.value,'utf-8'):\n",
    "        print(\"yo\",json.loads(str(message.value,'utf-8')))\n",
    "        collection.insert_one(json.loads(str(message.value,'utf-8')))\n",
    "        \n"
   ]
  }
 ],
 "metadata": {
  "interpreter": {
   "hash": "916dbcbb3f70747c44a77c7bcd40155683ae19c65e1c03b4aa3499c5328201f1"
  },
  "kernelspec": {
   "display_name": "Python 3.8.10 64-bit",
   "language": "python",
   "name": "python3"
  },
  "language_info": {
   "codemirror_mode": {
    "name": "ipython",
    "version": 3
   },
   "file_extension": ".py",
   "mimetype": "text/x-python",
   "name": "python",
   "nbconvert_exporter": "python",
   "pygments_lexer": "ipython3",
   "version": "3.8.10"
  },
  "orig_nbformat": 4
 },
 "nbformat": 4,
 "nbformat_minor": 2
}
