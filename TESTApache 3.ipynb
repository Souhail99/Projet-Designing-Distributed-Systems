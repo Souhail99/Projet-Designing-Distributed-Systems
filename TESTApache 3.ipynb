{
 "cells": [
  {
   "cell_type": "code",
   "execution_count": 1,
   "metadata": {},
   "outputs": [
    {
     "name": "stdout",
     "output_type": "stream",
     "text": [
      "{'id': 790420939, 'price': '3147.53000000', 'qty': '0.01490000', 'quoteQty': '46.89819700', 'time': 1648390887130, 'isBuyerMaker': False, 'isBestMatch': True}\n"
     ]
    }
   ],
   "source": [
    "\n",
    "from kafka import KafkaProducer, KafkaConsumer\n",
    "from time import sleep\n",
    "import json\n",
    "from datetime import datetime\n",
    "from confluent_kafka import Producer\n",
    "import socket\n",
    "import pymongo\n",
    "from pymongo.errors import BulkWriteError\n",
    "from datetime import datetime\n",
    "\n",
    "from pymongo import MongoClient, ASCENDING, DESCENDING\n",
    "\n",
    "from pprint import pprint\n",
    "import time\n",
    "\n",
    "from time import sleep\n",
    "from bson.objectid import ObjectId \n",
    "import subprocess\n",
    "from itertools import combinations, combinations_with_replacement\n",
    "from EtudeBinance import Makethefile,getpairs"
   ]
  },
  {
   "cell_type": "code",
   "execution_count": 2,
   "metadata": {},
   "outputs": [
    {
     "name": "stdout",
     "output_type": "stream",
     "text": [
      "len 388\n",
      "len 1985\n"
     ]
    }
   ],
   "source": [
    "symboles=list(filter(('').__ne__, getpairs()))\n",
    "listesymboles=[\"BTC\",\"ETH\",\"USDT\",\"USD\",\"BNB\",\"XRP\",\"ADA\",\"DOGE\",\"LTC\",\"BCH\",\"SOL\",\"ETC\",\"LUNA\",\"AVAX\",\"SHIB\",\"DOT\",\"MATIC\",\"AAVE\",\"UNI\",\"VRA\",\"USDC\",\"ADX\",\"USDC\",\"APE\",\"JASMY\",\"GALA\",\"WAVES\",\"LRC\"]\n",
    "temp = combinations(listesymboles, 2)\n",
    "newlist=[]\n",
    "for j in list(temp):\n",
    "    newlist.append(j[0]+j[1])\n",
    "    newlist.append(j[1]+j[0])\n",
    "for i in newlist:\n",
    "    if i not in symboles:\n",
    "        newlist.remove(i)\n",
    "print(\"len\",len(newlist))\n",
    "print(\"len\",len(symboles))"
   ]
  },
  {
   "cell_type": "markdown",
   "metadata": {},
   "source": [
    "# Définition des paramètres\n",
    "\n",
    "**Producer** permet d'envoyer des données tandis que **consumer** permet de lire en direct.\n",
    "\n",
    "Le client de mongo permet de stocker ces valeurs dans notre database."
   ]
  },
  {
   "cell_type": "code",
   "execution_count": 3,
   "metadata": {},
   "outputs": [],
   "source": [
    "\n",
    "conf = {'bootstrap.servers': \"host1:9092,host2:9092\",\n",
    "        'client.id': socket.gethostname()}\n",
    "\n",
    "producerconnect = Producer({'bootstrap.servers': 'localhost:9092'})\n",
    "producer = KafkaProducer(bootstrap_servers=['localhost:9092'],\n",
    "                         api_version=(0,10,2))\n",
    "consumer = KafkaConsumer(\n",
    "    'ApiBinance',\n",
    "     bootstrap_servers=['localhost:9092'],\n",
    "     auto_offset_reset='earliest',\n",
    "     auto_commit_interval_ms=300,\n",
    "     enable_auto_commit=True,\n",
    "     group_id='my-group')\n",
    "\n",
    "client = MongoClient(\"localhost\", 27017)\n",
    "db = client.Binance\n",
    "collection = db.symbol\n",
    "db.symbol.delete_many({})"
   ]
  },
  {
   "cell_type": "markdown",
   "metadata": {},
   "source": [
    "# Insertion\n",
    "\n",
    "On a récupérer les données du fichier. On utilise Kafka Connect pour faire le lien entre mongodb et les topics."
   ]
  },
  {
   "cell_type": "markdown",
   "metadata": {},
   "source": [
    "On insere les données dans un topics."
   ]
  },
  {
   "cell_type": "code",
   "execution_count": null,
   "metadata": {},
   "outputs": [],
   "source": [
    "# from datetime import datetime\n",
    "\n",
    "# # datetime object containing current date and time\n",
    "# now = datetime.now()\n",
    " \n",
    "# print(\"now =\", now)\n",
    "\n",
    "# # dd/mm/YY H:M:S\n",
    "# dt_string = now.strftime(\"%d/%m/%Y %H:%M:%S\")\n",
    "# print(\"date and time =\", dt_string)"
   ]
  },
  {
   "cell_type": "code",
   "execution_count": null,
   "metadata": {},
   "outputs": [],
   "source": [
    "def ApacheRemplissage():\n",
    "\tlisteInsertion=[]\n",
    "\n",
    "\twith open(\"fichier.txt\", \"r\") as fichier:\n",
    "\t\t\n",
    "\t\tlines = fichier.readlines()\n",
    "\t\tfor line in lines:\n",
    "\t\t\tlisteInsertion.append(line)\n",
    "\n",
    "\tlist1=[]\n",
    "\tlist1=listeInsertion[0].split(',WEEE')\n",
    "\n",
    "\tdel list1[-1]\n",
    "\n",
    "\tjsone=[]\n",
    "\n",
    "\tfor i in list1:\n",
    "\t\ttry:\n",
    "\t\t\tjsone.append(json.loads(i))\n",
    "\t\texcept ValueError:\n",
    "\t\t\tprint(\"error for\",i,ValueError)\n",
    "\n",
    "\tfor i in jsone:\n",
    "\t\tproducer.send('ApiBinance',bytes(str(i), encoding='utf-8'))\n",
    "\t\tsleep(0.5)"
   ]
  },
  {
   "cell_type": "markdown",
   "metadata": {},
   "source": [
    "On a inséré les données dans kafka topics. Maintenant, via Kafka connect on récupére les données puis on les met dans mongodb"
   ]
  },
  {
   "cell_type": "markdown",
   "metadata": {},
   "source": [
    "**Kafka Connect**"
   ]
  },
  {
   "cell_type": "markdown",
   "metadata": {},
   "source": [
    "Lire des données & on met les données dans MongoDB."
   ]
  },
  {
   "cell_type": "code",
   "execution_count": null,
   "metadata": {},
   "outputs": [],
   "source": [
    "from confluent_kafka import Consumer, KafkaError\n",
    "\n",
    "client='client-'\n",
    "compteur=0\n",
    "def conso():\n",
    "    settings = {\n",
    "        'bootstrap.servers': 'localhost:9092',\n",
    "        'group.id': 'mygroup2',\n",
    "        'client.id': 'client-'+str(compteur),\n",
    "        'enable.auto.commit': True,\n",
    "        'session.timeout.ms': 6000,\n",
    "        'default.topic.config': {'auto.offset.reset': 'smallest'}\n",
    "    }\n",
    "\n",
    "    c = Consumer(settings)\n",
    "\n",
    "    c.subscribe(['ApiBinance'])\n",
    "\n",
    "    try:\n",
    "        while True:\n",
    "            msg = c.poll(0.1)\n",
    "            if msg is None:\n",
    "                continue\n",
    "            elif not msg.error():\n",
    "                print('Received message: {0}'.format(msg.value()))\n",
    "                inputdonnee=collection.insert_one(json.loads(msg.value()))\n",
    "                print(\"New input in our collection\")\n",
    "            elif msg.error().code() == KafkaError._PARTITION_EOF:\n",
    "                print('End of partition reached {0}/{1}'\n",
    "                    .format(msg.topic(), msg.partition()))\n",
    "            else:\n",
    "                print('Error occured: {0}'.format(msg.error().str()))\n",
    "\n",
    "    except KeyboardInterrupt:\n",
    "        pass\n",
    "\n",
    "    finally:\n",
    "        c.close()\n",
    "    compteur+=1"
   ]
  },
  {
   "cell_type": "markdown",
   "metadata": {},
   "source": [
    "On actualise le topic continuellement, pour supprimer les anciennes donées grâce aux données présentes dans mongoDB."
   ]
  },
  {
   "cell_type": "code",
   "execution_count": null,
   "metadata": {},
   "outputs": [],
   "source": [
    "def acked(err, msg):\n",
    "    if err is not None:\n",
    "        print(\"Failed to deliver message: {0}: {1}\"\n",
    "              .format(msg.value(), err.str()))\n",
    "    else:\n",
    "        print(\"Message produced: {0}\".format(msg.value()))\n",
    "\n",
    "def ProducerTerminal():\n",
    "    p = Producer({'bootstrap.servers': 'localhost:9092'})\n",
    "    cursor = collection.find()\n",
    "    try:\n",
    "        for record in cursor:\n",
    "            p.produce('ApiBinance', record, callback=acked)\n",
    "            p.poll(0.5)\n",
    "\n",
    "    except KeyboardInterrupt:\n",
    "        pass\n",
    "\n",
    "    p.flush(30)\n",
    "    db.symbol.delete_many({})\n",
    "    conso()"
   ]
  },
  {
   "cell_type": "markdown",
   "metadata": {},
   "source": [
    "On fait des requetes"
   ]
  },
  {
   "cell_type": "code",
   "execution_count": null,
   "metadata": {},
   "outputs": [],
   "source": [
    "def requetesMongoDB():\n",
    "    return 5"
   ]
  },
  {
   "cell_type": "code",
   "execution_count": null,
   "metadata": {},
   "outputs": [],
   "source": [
    "print(\"Bonjour, bienvenue dans le menu du Projet Apache-MongoDB : \")\n",
    "index=True\n",
    "while index:\n",
    "    print(\"\\n\")\n",
    "    print(\"-------------start-------------\")\n",
    "    print(\"\\n\")\n",
    "    case=input(\"Do you want to read the data in the Apache topic and MongoDB (in this case, the database will be filled automatically)(Press 1) or execute some request to MongoDB (Press 2) or  exit (Press 3) > \")\n",
    "    print(\"\\n\")\n",
    "    if case == \"1\":\n",
    "        start = time.time()\n",
    "        ApacheRemplissage()\n",
    "        conso()\n",
    "        elapsed = end - start\n",
    "        end = time.time()\n",
    "        print(f'Temps d\\'exécution pour le remplissage : {elapsed}s')\n",
    "    elif case ==\"2\":\n",
    "        requetesMongoDB()\n",
    "    elif case ==\"3\":\n",
    "        index=False\n",
    "        print(\"Au revoir !\")\n",
    "    else:\n",
    "        print(\"Something, you don't press an avalaible numbers, please restart\")\n",
    "       \n",
    "    print(\"-------------end---------------\")\n"
   ]
  }
 ],
 "metadata": {
  "interpreter": {
   "hash": "916dbcbb3f70747c44a77c7bcd40155683ae19c65e1c03b4aa3499c5328201f1"
  },
  "kernelspec": {
   "display_name": "Python 3.8.10 64-bit",
   "language": "python",
   "name": "python3"
  },
  "language_info": {
   "codemirror_mode": {
    "name": "ipython",
    "version": 3
   },
   "file_extension": ".py",
   "mimetype": "text/x-python",
   "name": "python",
   "nbconvert_exporter": "python",
   "pygments_lexer": "ipython3",
   "version": "3.8.10"
  },
  "orig_nbformat": 4
 },
 "nbformat": 4,
 "nbformat_minor": 2
}
